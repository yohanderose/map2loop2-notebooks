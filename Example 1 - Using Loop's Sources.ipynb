{
 "cells": [
  {
   "cell_type": "markdown",
   "metadata": {},
   "source": [
    "# Loop Workflow Example 1"
   ]
  },
  {
   "cell_type": "markdown",
   "metadata": {},
   "source": [
    "> * High level approach to making a 3D model from just a bounding box (in Australia only for now)."
   ]
  },
  {
   "cell_type": "code",
   "execution_count": null,
   "metadata": {},
   "outputs": [],
   "source": [
    "import time\n",
    "t0 = time.time()"
   ]
  },
  {
   "cell_type": "markdown",
   "metadata": {},
   "source": [
    "## Map2Loop"
   ]
  },
  {
   "cell_type": "code",
   "execution_count": null,
   "metadata": {
    "scrolled": false
   },
   "outputs": [],
   "source": [
    "import os\n",
    "from map2loop.project import Project\n",
    "\n",
    "proj = Project( \n",
    "    loopdata_state='WA'\n",
    ")\n",
    "\n",
    "proj.update_config(\n",
    "                    out_dir='./wa-remote01',\n",
    "                    overwrite='true',\n",
    "                    bbox_3d={\n",
    "                         \"minx\": 500000,\n",
    "                         \"miny\": 7490000,\n",
    "                         \"maxx\": 545000,\n",
    "                         \"maxy\": 7520000,\n",
    "                         \"base\": -3200,\n",
    "                         \"top\": 1200,\n",
    "                     },\n",
    "                    proj_crs={'init': 'EPSG:28350'},\n",
    "                    quiet='None1'\n",
    "                  )"
   ]
  },
  {
   "cell_type": "code",
   "execution_count": null,
   "metadata": {
    "scrolled": false
   },
   "outputs": [],
   "source": [
    "proj.run()"
   ]
  },
  {
   "cell_type": "markdown",
   "metadata": {},
   "source": [
    "## Loop Structural"
   ]
  },
  {
   "cell_type": "code",
   "execution_count": null,
   "metadata": {},
   "outputs": [],
   "source": [
    "# Define project pathing from m2l\n",
    "proj_path = proj.config.project_path\n",
    "graph_path = proj.config.graph_path\n",
    "tmp_path = proj.config.tmp_path\n",
    "data_path = proj.config.data_path\n",
    "dtm_path = proj.config.dtm_path\n",
    "output_path = proj.config.output_path\n",
    "vtk_path = proj.config.vtk_path\n",
    "\n",
    "# Define project bounds\n",
    "minx,miny,maxx,maxy = proj.config.bbox\n",
    "model_base = proj.config.bbox_3d['base']\n",
    "model_top = proj.config.bbox_3d['top']\n",
    "\n",
    "fault_file = proj.config.fault_file_csv"
   ]
  },
  {
   "cell_type": "code",
   "execution_count": null,
   "metadata": {
    "scrolled": false
   },
   "outputs": [],
   "source": [
    "import random\n",
    "import os\n",
    "import time\n",
    "from datetime import datetime\n",
    "import shutil\n",
    "import logging\n",
    "logging.getLogger().setLevel(logging.ERROR)\n",
    "\n",
    "import numpy as np\n",
    "from LoopStructural import GeologicalModel\n",
    "import lavavu\n",
    "from LoopStructural.visualisation import LavaVuModelViewer\n",
    "from LoopStructural import GeologicalModel\n",
    "\n",
    "nowtime=datetime.now().isoformat(timespec='minutes')   \n",
    "model_name='leaflet'+'_'+nowtime.replace(\":\",\"-\").replace(\"T\",\"-\")\n",
    "if (os.path.exists(vtk_path+model_name)):\n",
    "    shutil.rmtree(vtk_path+model_name)\n",
    "os.mkdir(vtk_path+model_name)\n",
    "filename=vtk_path+model_name+'/'+'surface_name_{}.vtk'\n",
    "\n",
    "\n",
    "f=open(os.path.join(tmp_path, 'bbox.csv'),'w')\n",
    "f.write('minx,miny,maxx,maxy,lower,upper\\n')\n",
    "ostr='{},{},{},{},{},{}\\n'.format(minx,miny,maxx,maxy,model_base,model_top)\n",
    "f.write(ostr)\n",
    "f.close()\n",
    "t1 = time.time()\n",
    "fault_params = {'interpolatortype':'FDI',\n",
    "                'nelements':3e4,\n",
    "                'data_region':.1,\n",
    "                'solver':'pyamg',\n",
    "#                 overprints:overprints,\n",
    "                'cpw':10,\n",
    "                'npw':10}\n",
    "foliation_params = {'interpolatortype':'PLI' , # 'interpolatortype':'PLI',\n",
    "                    'nelements':1e5,  # how many tetras/voxels\n",
    "                    'buffer':0.8,  # how much to extend nterpolation around box\n",
    "                    'solver':'pyamg',\n",
    "                    'damp':True}\n",
    "\n",
    "if(not os.path.exists(fault_file)):\n",
    "    f=open(output_path + '/fault_displacements3.csv','w')\n",
    "    f.write('X,Y,fname,apparent_displacement,vertical_displacement,downthrow_dir\\n')\n",
    "    f.close()\n",
    "    f=open(output_path + '/fault_orientations.csv','w')\n",
    "    f.write('X,Y,Z,DipDirection,dip,DipPolarity,formation\\n')\n",
    "    f.close()\n",
    "    f=open(output_path + '/faults.csv','w')\n",
    "    f.write('X,Y,Z,formation\\n')\n",
    "    f.close()\n",
    "    f=open(output_path + '/fault-fault-relationships.csv','w')\n",
    "    f.write('fault_id\\n')\n",
    "    f.close()\n",
    "    f=open(output_path + '/group-fault-relationships.csv','w')\n",
    "    f.write('group\\n')\n",
    "    f.close()\n",
    "\n",
    "    model, m2l_data = GeologicalModel.from_map2loop_directory(proj_path,\n",
    "                                                          skip_faults=True,\n",
    "                                                          fault_params=fault_params,\n",
    "                                                          foliation_params=foliation_params)\n",
    "else:\n",
    "    model, m2l_data = GeologicalModel.from_map2loop_directory(proj_path,\n",
    "                                                          skip_faults=False,\n",
    "                                                          fault_params=fault_params,\n",
    "                                                          foliation_params=foliation_params)\n",
    "\n",
    "view = LavaVuModelViewer(model,vertical_exaggeration=1) \n",
    "view.nsteps = np.array([200,200,200])\n",
    "#view.set_zscale(2)\n",
    "view.add_model(cmap='tab20')\n",
    "view.nsteps=np.array([50,50,50])\n",
    "#view.add_model_surfaces(filename=filename)\n",
    "view.add_model_surfaces()\n",
    "for sg in model.feature_name_index:\n",
    "    if( 'super' in sg):\n",
    "        view.add_data(model.features[model.feature_name_index[sg]])\n",
    "view.interactive()  \n",
    "\n",
    "for sg in model.feature_name_index:\n",
    "    if( 'super' in sg):\n",
    "        view.add_data(model.features[model.feature_name_index[sg]])\n",
    "\n",
    "t2 = time.time()\n",
    "print(\"m2l\",(t1-t0)/60.0,\"LoopStructural\",(t2-t1)/60.0,\"Total\",(t2-t0)/60.0,\"minutes\")"
   ]
  },
  {
   "cell_type": "code",
   "execution_count": null,
   "metadata": {},
   "outputs": [],
   "source": []
  }
 ],
 "metadata": {
  "kernelspec": {
   "display_name": "Python 3",
   "language": "python",
   "name": "python3"
  },
  "language_info": {
   "codemirror_mode": {
    "name": "ipython",
    "version": 3
   },
   "file_extension": ".py",
   "mimetype": "text/x-python",
   "name": "python",
   "nbconvert_exporter": "python",
   "pygments_lexer": "ipython3",
   "version": "3.7.9"
  }
 },
 "nbformat": 4,
 "nbformat_minor": 4
}
