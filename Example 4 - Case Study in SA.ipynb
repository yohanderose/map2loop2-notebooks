{
 "cells": [
  {
   "cell_type": "markdown",
   "metadata": {},
   "source": [
    "# Case study 3: Flinders ranges"
   ]
  },
  {
   "cell_type": "code",
   "execution_count": null,
   "metadata": {},
   "outputs": [],
   "source": [
    "import folium\n",
    "from ipyleaflet import Map, basemaps, GeoJSON, LayersControl, DrawControl,WMSLayer, GeoData\n",
    "from ipywidgets import Label\n",
    "from ipywidgets import Label\n",
    "import ipywidgets as widgets\n",
    "import numpy as np\n",
    "from shapely.geometry import Polygon\n",
    "import geopandas\n",
    "import pandas as pd\n",
    "import lavavu"
   ]
  },
  {
   "cell_type": "code",
   "execution_count": null,
   "metadata": {},
   "outputs": [],
   "source": [
    "map_crs = 'EPSG:4326'\n",
    "proj_crs = 'EPSG:28354'"
   ]
  },
  {
   "cell_type": "code",
   "execution_count": null,
   "metadata": {},
   "outputs": [],
   "source": [
    "existing_extent = (138.362206, -32.463842, 139.262268, -31.999178)\n",
    "center = (existing_extent[1]+existing_extent[3])/2, (existing_extent[0]+existing_extent[2])/2\n",
    "minlat = existing_extent[3]\n",
    "maxlat = existing_extent[1]\n",
    "minlong = existing_extent[2]\n",
    "maxlong = existing_extent[0]\n",
    "lat_point_list = [minlat, minlat, maxlat, maxlat,maxlat]\n",
    "lon_point_list = [minlong, maxlong, maxlong, minlong, minlong]\n",
    "bbox_geom = Polygon(zip(lon_point_list, lat_point_list))\n",
    "mbbox = geopandas.GeoDataFrame(index=[0], crs=map_crs, geometry=[bbox_geom])\n",
    "example_rect = GeoData(geo_dataframe = mbbox,\n",
    "                   style={'color': 'purple', 'opacity':3, 'weight':1.9, 'dashArray':'2', 'fillOpacity':0.6},                  \n",
    "                   name = 'Example')\n",
    "print(map_crs,mbbox.total_bounds)\n",
    "mbbox=mbbox.to_crs(proj_crs)\n",
    "print(proj_crs,mbbox.total_bounds)\n"
   ]
  },
  {
   "cell_type": "code",
   "execution_count": null,
   "metadata": {},
   "outputs": [],
   "source": [
    "# center=(-33.5,138.7)\n",
    "\n",
    "wms_warox = WMSLayer(\n",
    "    url='http://geo.loop-gis.org/geoserver/GSSA/wms?',\n",
    "    layers='GSSA:sth_flinders',\n",
    "    format='image/png',\n",
    "    transparent=True,\n",
    "    attribution='Outcrop data from GSSA',\n",
    "    name='outcrops'\n",
    "\n",
    ")\n",
    "wms_geol = WMSLayer(\n",
    "    url='http://geo.loop-gis.org/geoserver/GSSA/wms?',\n",
    "    layers='GSSA:2m surface geology',\n",
    "    format='image/png',\n",
    "    transparent=True,\n",
    "    opacity=0.4,\n",
    "    attribution='Geology data from GSSA',\n",
    "    name='geology'\n",
    "\n",
    ")\n",
    "m =Map(basemap=basemaps.OpenTopoMap, center=center, zoom=8,scroll_wheel_zoom=True)\n",
    "label = Label()\n",
    "display(label)\n",
    "\n",
    "def handle_interaction(**kwargs):\n",
    "    if kwargs.get('type') == 'mousemove':\n",
    "        label.value = str(kwargs.get('coordinates'))\n",
    "\n",
    "m.on_interaction(handle_interaction)\n",
    "m.add_layer(wms_geol)\n",
    "m.add_layer(wms_warox)\n",
    "# if(not test_data_name =='Draw Your Own'):\n",
    "#     m.add_layer(example_rect)\n",
    "\n",
    "\n",
    "m.add_control(LayersControl())\n",
    "dc = DrawControl(rectangle={'shapeOptions': {'color': '#0000FF'}})\n",
    "m.add_control(dc)\n",
    "m.add_layer(example_rect)\n",
    "m"
   ]
  },
  {
   "cell_type": "code",
   "execution_count": null,
   "metadata": {},
   "outputs": [],
   "source": [
    "from geopandas import GeoDataFrame\n",
    "from shapely.geometry import shape \n",
    "draw = dc.last_draw\n",
    "try:\n",
    "    poly = shape(draw['geometry'])\n",
    "    poly_gdf = GeoDataFrame([1], geometry=[poly], crs=map_crs)\n",
    "    bbox_gdf = poly_gdf.to_crs(proj_crs)\n",
    "    bbox_3d = {\"minx\": np.min(bbox_gdf.loc[:,'geometry'][0].exterior.xy[0]),\n",
    "         \"miny\": np.min(bbox_gdf.loc[:,'geometry'][0].exterior.xy[1]),\n",
    "         \"maxx\": np.max(bbox_gdf.loc[:,'geometry'][0].exterior.xy[0]),\n",
    "         \"maxy\": np.max(bbox_gdf.loc[:,'geometry'][0].exterior.xy[1]),\n",
    "         \"base\": -3200,\n",
    "         \"top\": 1200,}\n",
    "except:\n",
    "    minx = mbbox.total_bounds[0]\n",
    "    maxx = mbbox.total_bounds[2]\n",
    "    miny = mbbox.total_bounds[1]\n",
    "    maxy = mbbox.total_bounds[3]# [ 274934.13200956 6297758.41393543  323980.90024616 6329307.64682912]\n",
    "    bbox_3d = {'minx': minx,\n",
    "     'miny': miny,\n",
    "     'maxx': maxx,\n",
    "     'maxy': maxy,\n",
    "     'base': -3200,\n",
    "     'top': 1200}"
   ]
  },
  {
   "cell_type": "markdown",
   "metadata": {},
   "source": [
    "## Map2Loop"
   ]
  },
  {
   "cell_type": "code",
   "execution_count": null,
   "metadata": {
    "scrolled": false
   },
   "outputs": [],
   "source": [
    "import os\n",
    "import hjson\n",
    "import map2loop\n",
    "map2loop._clut_path='SA/data/GSSA_2M_colours.csv'\n",
    "from map2loop.project import Project\n",
    "\n",
    "%matplotlib inline\n",
    "proj = Project( \n",
    "                 structure_file='SA/data/sth_flinders_28354.shp',\n",
    "                fault_file='SA/data/2M Linear Structures_28354.shp',\n",
    "                fold_file='SA/data/2M Linear Structures_28354.shp',\n",
    "                geology_file='SA/data/2M_Surface_Geology_28354_relage.shp',\n",
    "                mindep_file=\"SA/data/null_mindeps.shp\",\n",
    "                 metadata='SA/data/meta.hjson',\n",
    ")\n",
    "proj.update_config(\n",
    "                    out_dir='sa-study',\n",
    "                    bbox_3d=bbox_3d,\n",
    "                    proj_crs={'init': 'EPSG:28354'},\n",
    "                    overwrite=\"true\",\n",
    "                    drift_prefix=['T','Q','water','void'],\n",
    "                    quiet='None'\n",
    "                  )"
   ]
  },
  {
   "cell_type": "code",
   "execution_count": null,
   "metadata": {
    "scrolled": true
   },
   "outputs": [],
   "source": [
    "proj.run()"
   ]
  },
  {
   "cell_type": "markdown",
   "metadata": {},
   "source": [
    "## Loop Structural"
   ]
  },
  {
   "cell_type": "code",
   "execution_count": null,
   "metadata": {},
   "outputs": [],
   "source": [
    "# Define project pathing from m2l\n",
    "proj_path = proj.config.project_path\n",
    "graph_path = proj.config.graph_path\n",
    "tmp_path = proj.config.tmp_path\n",
    "data_path = proj.config.data_path\n",
    "dtm_path = proj.config.dtm_path\n",
    "output_path = proj.config.output_path\n",
    "vtk_path = proj.config.vtk_path\n",
    "\n",
    "# Define project bounds\n",
    "minx,miny,maxx,maxy = proj.config.bbox\n",
    "model_base = proj.config.bbox_3d['base']\n",
    "model_top = proj.config.bbox_3d['top']\n",
    "\n",
    "fault_file = proj.config.fault_file_csv"
   ]
  },
  {
   "cell_type": "code",
   "execution_count": null,
   "metadata": {
    "scrolled": true
   },
   "outputs": [],
   "source": [
    "import random\n",
    "import os\n",
    "import time\n",
    "from datetime import datetime\n",
    "import shutil\n",
    "import logging\n",
    "logging.getLogger().setLevel(logging.INFO)\n",
    "\n",
    "import numpy as np\n",
    "from LoopStructural import GeologicalModel\n",
    "import lavavu\n",
    "from LoopStructural.visualisation import LavaVuModelViewer\n",
    "from LoopStructural import GeologicalModel\n",
    "\n",
    "nowtime=datetime.now().isoformat(timespec='minutes') \n",
    "model_name='leaflet'+'_'+nowtime.replace(\":\",\"-\").replace(\"T\",\"-\")\n",
    "output_vtk = os.path.join(vtk_path,model_name )\n",
    "\n",
    "if (os.path.exists(output_vtk)):\n",
    "    shutil.rmtree(output_vtk)\n",
    "os.mkdir(output_vtk)\n",
    "filename= os.path.join(output_vtk,'surface_name_{}.vtk')\n",
    "\n",
    "\n",
    "f=open(os.path.join(tmp_path, 'bbox.csv'),'w')\n",
    "f.write('minx,miny,maxx,maxy,lower,upper\\n')\n",
    "ostr='{},{},{},{},{},{}\\n'.format(minx,miny,maxx,maxy,model_base,model_top)\n",
    "f.write(ostr)\n",
    "f.close()\n",
    "t1 = time.time()\n",
    "fault_params = {'interpolatortype':'FDI',\n",
    "                'nelements':1e5,\n",
    "                'fault_buffer':.5,\n",
    "                'solver':'pyamg',\n",
    "#                 overprints:overprints,\n",
    "                'cpw':10,\n",
    "                'npw':10}\n",
    "foliation_params = {'interpolatortype':'FDI' , # 'interpolatortype':'PLI', 'FDI', 'surfe'\n",
    "                    'nelements':3e5,  # how many tetras/voxels\n",
    "                    'buffer':1.8,  # how much to extend interpolation around box\n",
    "                    'solver':'pyamg',\n",
    "                    'damp':True,\n",
    "                    'cpw':5,\n",
    "                    'npw':5}\n",
    "\n",
    "model, m2l_data = GeologicalModel.from_map2loop_directory(proj_path,\n",
    "                                                          skip_faults=False,\n",
    "                                                          fault_params=fault_params,\n",
    "                                                          foliation_params=foliation_params)\n",
    "\n",
    "\n"
   ]
  },
  {
   "cell_type": "code",
   "execution_count": null,
   "metadata": {},
   "outputs": [],
   "source": [
    "view = LavaVuModelViewer(model,vertical_exaggeration=1) \n",
    "view.nsteps = np.array([200,200,200])\n",
    "#view.set_zscale(2)\n",
    "# view.add_model()\n",
    "view.nelements = 3e5#steps=np.array([,50,50])\n",
    "#view.add_model_surfaces(filename=filename)\n",
    "view.add_model_surfaces()\n",
    "view.add_data(model['supergroup_0'])\n",
    "view.interactive()  "
   ]
  },
  {
   "cell_type": "code",
   "execution_count": null,
   "metadata": {},
   "outputs": [],
   "source": [
    "view.display()"
   ]
  },
  {
   "cell_type": "code",
   "execution_count": null,
   "metadata": {},
   "outputs": [],
   "source": [
    "basal_contacts = geopandas.read_file(proj.config.tmp_path+'basal_contacts.shp')\n",
    "tangent = pd.read_csv(proj.config.tmp_path+'raw_contacts.csv')"
   ]
  },
  {
   "cell_type": "code",
   "execution_count": null,
   "metadata": {},
   "outputs": [],
   "source": [
    "basal_contacts"
   ]
  },
  {
   "cell_type": "code",
   "execution_count": null,
   "metadata": {},
   "outputs": [],
   "source": [
    "for line in basal_contacts.geometry: # loop through line segments\n",
    "    if line is None:\n",
    "        continue\n",
    "    print(type(line))"
   ]
  },
  {
   "cell_type": "code",
   "execution_count": null,
   "metadata": {},
   "outputs": [],
   "source": [
    "import matplotlib.pyplot as plt\n",
    "import shapely\n",
    "lines = []\n",
    "for line in basal_contacts.geometry: # loop through line segments\n",
    "    if line is None:\n",
    "        continue\n",
    "    points = []\n",
    "    if type(line) is shapely.geometry.linestring.LineString:\n",
    "        points.append([line.coords[1][0],line.coords[1][1]])\n",
    "        continue\n",
    "    for subline in line:\n",
    "        points.append([subline.coords[1][0],subline.coords[1][1]])\n",
    "    \n",
    "    lines.append(np.array(points))"
   ]
  },
  {
   "cell_type": "code",
   "execution_count": null,
   "metadata": {},
   "outputs": [],
   "source": [
    "i = 12\n",
    "plt.plot(lines[i][:,0],lines[i][:,1],'bo')\n",
    "tangents = []\n",
    "for l in lines:\n",
    "    line_tangents = []\n",
    "    for i in range(len(l)):\n",
    "        if i+1 > len(l)-1:\n",
    "            line_tangents.append([l[i-1,0]-l[i,0],l[i-1,1]-l[i,1]])\n",
    "            continue\n",
    "        line_tangents.append([l[i,0]-l[i+1,0],l[i,1]-l[i+1,1]])\n",
    "    tangents.append(np.array(line_tangents))"
   ]
  },
  {
   "cell_type": "code",
   "execution_count": null,
   "metadata": {},
   "outputs": [],
   "source": [
    "for i in range(len(lines)):\n",
    "    plt.quiver(lines[i][:,0],lines[i][:,1],tangents[i][:,0],tangents[i][:,1],scale=100000)\n",
    "    "
   ]
  },
  {
   "cell_type": "code",
   "execution_count": null,
   "metadata": {},
   "outputs": [],
   "source": [
    "derivatives = []\n",
    "for i in range(len(tangents)):\n",
    "    line_derivative = []\n",
    "    for j in range(1,len(tangents[i])-1):\n",
    "        dx = tangents[i][j-1,0]-tangents[i][j+1,0]\n",
    "        dy = tangents[i][j-1,1]-tangents[i][j+1,1]\n",
    "        dot = np.dot(tangents[i][j-1,:]/np.linalg.norm(tangents[i][j-1,:]),tangents[i][j+1,:]/np.linalg.norm(tangents[i][j+1,:]))\n",
    "        line_derivative.append([dx,dy,lines[i][j,0],lines[i][j,1],dot])\n",
    "    if len(line_derivative) > 0:\n",
    "        derivatives.append(np.array(line_derivative))"
   ]
  },
  {
   "cell_type": "code",
   "execution_count": null,
   "metadata": {},
   "outputs": [],
   "source": [
    "dot = []\n",
    "x = []\n",
    "y = []\n",
    "for d in derivatives:\n",
    "    dot.extend(d[:,4].tolist())\n",
    "    x.extend(d[:,2].tolist())\n",
    "    y.extend(d[:,3].tolist())"
   ]
  },
  {
   "cell_type": "code",
   "execution_count": null,
   "metadata": {},
   "outputs": [],
   "source": []
  },
  {
   "cell_type": "code",
   "execution_count": null,
   "metadata": {},
   "outputs": [],
   "source": [
    "# from LoopStructural.visualisation import MapView\n",
    "# mapview = MapView(model)\n",
    "# mapview.add_data(model['supergroup_0'],dip=False,val=False,symb_scale=1000)"
   ]
  },
  {
   "cell_type": "code",
   "execution_count": null,
   "metadata": {},
   "outputs": [],
   "source": [
    "from scipy.ndimage.filters import gaussian_filter\n",
    "\n",
    "def myplot(x, y, s, model=None, bins=1000):\n",
    "    crange = None\n",
    "    if model:\n",
    "        crange = [[model.origin[0],model.maximum[0]],\n",
    "                  [model.origin[1],model.maximum[1]]]\n",
    "    heatmap, xedges, yedges = np.histogram2d(x, y, range=crange, bins=bins)\n",
    "    heatmap = gaussian_filter(heatmap, sigma=s)\n",
    "\n",
    "    extent = [xedges[0], xedges[-1], yedges[0], yedges[-1]]\n",
    "    return heatmap.T, extent"
   ]
  },
  {
   "cell_type": "code",
   "execution_count": null,
   "metadata": {},
   "outputs": [],
   "source": []
  },
  {
   "cell_type": "code",
   "execution_count": null,
   "metadata": {
    "scrolled": false
   },
   "outputs": [],
   "source": [
    "size=20\n",
    "params = {'legend.fontsize': 'large',\n",
    "          'figure.figsize': (20,8),\n",
    "          'axes.labelsize': size,\n",
    "          'axes.titlesize': size*1.2,\n",
    "          'xtick.labelsize': size*0.75,\n",
    "          'ytick.labelsize': size*0.75,\n",
    "          'axes.titlepad': 25}\n",
    "plt.rcParams.update(params)\n",
    "\n",
    "\n",
    "fig, ax = plt.subplots(1,3,figsize=(30,10))\n",
    "key_localities = np.zeros((300,3))\n",
    "key_localities[:,2] = 1.\n",
    "ki = 0\n",
    "for d in derivatives:\n",
    "#     try:\n",
    "#         ax[2].scatter(d[:,2],d[:,3],c=np.rad2deg(np.cos(np.abs(d[:,4]))),vmin=np.min(np.rad2deg(np.cos(np.abs(dot)))),vmax=np.max(np.rad2deg(np.cos(np.abs(dot)))),cmap='rainbow',s=40)\n",
    "#     #     break\n",
    "# #         ax[1].scatter(d[:,2],d[:,3],c=d[:,0])\n",
    "#     except:\n",
    "# #         print(d)\n",
    "#         pass\n",
    "    try:\n",
    "        mask = np.rad2deg(np.cos(np.abs(d[:,4]))) > 45\n",
    "#         ax[0].plot(d[mask,2],d[mask,3],'ro')#c=np.rad2deg(np.cos(np.abs(d[:,4]))),vmin=np.min(np.rad2deg(np.cos(np.abs(dot)))),vmax=np.max(np.rad2deg(np.cos(np.abs(dot)))),cmap='rainbow',s=40)\n",
    "    #     break\n",
    "#         ax[1].scatter(d[:,2],d[:,3],c=d[:,0])\n",
    "        key_localities[ki:np.sum(mask)+ki,0] = d[mask,2]\n",
    "        key_localities[ki:np.sum(mask)+ki,1] = d[mask,3]\n",
    "\n",
    "        ki+=np.sum(mask)\n",
    "    except:\n",
    "#         print(d)\n",
    "        pass\n",
    "basal_contacts.plot(ax=ax[0])\n",
    "basal_contacts.plot(ax=ax[2])\n",
    "\n",
    "for i in range(len(lines)):\n",
    "    temp_tangents = tangents[i][:,:2]/np.linalg.norm(tangents[i][:,:2],axis=1)[:,None]\n",
    "    ax[1].quiver(lines[i][:,0],lines[i][:,1],temp_tangents[:,0],temp_tangents[:,1],scale=5,scale_units='inches')\n",
    "basal_contacts.plot(ax=ax[1])\n",
    "proj.config.geol_clip.plot('colour_index',ax=ax[0],cmap='tab20')\n",
    "# proj.config.structure_clip.plot(ax=ax[0])\n",
    "mapview = MapView(model,ax=ax[0])\n",
    "mapview.add_data(model['supergroup_0'],dip=False,val=False,symb_scale=750)\n",
    "heatmap, extent = myplot(key_localities[:ki,0],key_localities[:ki,1],10,model=model)\n",
    "cax = ax[2].imshow(heatmap,origin='lower',extent=extent)#(model.origin[0],model.maximum[0],model.origin[1],model.maximum[1]))\n",
    "ax[2].contour(heatmap,levels=[0.00003],colors='black',origin='lower',extent=extent)#(model.origin[0],model.maximum[0],model.origin[1],model.maximum[1]))\n",
    "# plt.colorbar(cax)\n",
    "# basal_contacts.plot(ax=plt.gca())\n",
    "ax[0].set_title('A. Geological map')\n",
    "ax[1].set_title('B. Processed contact lines')\n",
    "ax[2].set_title('C. Key locality map')"
   ]
  },
  {
   "cell_type": "code",
   "execution_count": null,
   "metadata": {},
   "outputs": [],
   "source": [
    "plt.imshow(heatmap,origin='lower',extent=extent)\n",
    "basal_contacts.plot(ax=plt.gca())"
   ]
  },
  {
   "cell_type": "code",
   "execution_count": null,
   "metadata": {},
   "outputs": [],
   "source": [
    "proj.config.structure_clip.plot()"
   ]
  },
  {
   "cell_type": "code",
   "execution_count": null,
   "metadata": {},
   "outputs": [],
   "source": [
    "plt.plot(key_localities[:ki,0],key_localities[:ki,1],'bo')"
   ]
  },
  {
   "cell_type": "code",
   "execution_count": null,
   "metadata": {},
   "outputs": [],
   "source": [
    "plt.hist(np.rad2deg(np.arccos(np.abs(dot))))"
   ]
  },
  {
   "cell_type": "code",
   "execution_count": null,
   "metadata": {},
   "outputs": [],
   "source": [
    "\n"
   ]
  },
  {
   "cell_type": "code",
   "execution_count": null,
   "metadata": {},
   "outputs": [],
   "source": [
    "key_localities[:ki,0]"
   ]
  },
  {
   "cell_type": "code",
   "execution_count": null,
   "metadata": {},
   "outputs": [],
   "source": [
    "extent"
   ]
  },
  {
   "cell_type": "code",
   "execution_count": null,
   "metadata": {},
   "outputs": [],
   "source": [
    "# heatmap[np.isclose(heatmap,0)] = np.nan"
   ]
  },
  {
   "cell_type": "code",
   "execution_count": null,
   "metadata": {},
   "outputs": [],
   "source": [
    "plt.imshow(heatmap,origin='lower',extent=extent)#(model.origin[0],model.maximum[0],model.origin[1],model.maximum[1]))\n",
    "basal_contacts.plot(ax=plt.gca())\n",
    "# plt.scatter(key_localities[:ki,0],key_localities[:ki,1])"
   ]
  },
  {
   "cell_type": "code",
   "execution_count": null,
   "metadata": {},
   "outputs": [],
   "source": [
    "yedges"
   ]
  },
  {
   "cell_type": "code",
   "execution_count": null,
   "metadata": {},
   "outputs": [],
   "source": [
    "from scipy.interpolate import rbf"
   ]
  },
  {
   "cell_type": "code",
   "execution_count": null,
   "metadata": {},
   "outputs": [],
   "source": [
    "rbfi = rbf.Rbf(key_localities[:,0],key_localities[:,1],key_localities[:,2])"
   ]
  },
  {
   "cell_type": "code",
   "execution_count": null,
   "metadata": {},
   "outputs": [],
   "source": [
    "xi = np.linspace(270000,350000,100)\n",
    "yi = np.linspace(6.375e6,6.420e6,100)\n",
    "xx,yy = np.meshgrid(xi,yi)\n",
    "zz = np.zeros(xx.shape)"
   ]
  },
  {
   "cell_type": "code",
   "execution_count": null,
   "metadata": {},
   "outputs": [],
   "source": [
    "v = rbfi(xx,yy,zz)"
   ]
  },
  {
   "cell_type": "code",
   "execution_count": null,
   "metadata": {},
   "outputs": [],
   "source": [
    "plt.imshow(v,extent=(270000,350000,6.375e6,6.420e6))\n",
    "# basal_contacts.plot(ax=plt.gca())\n",
    "plt.scatter(x,y,c=dot)"
   ]
  },
  {
   "cell_type": "code",
   "execution_count": null,
   "metadata": {},
   "outputs": [],
   "source": [
    "basal_contacts.plot()"
   ]
  },
  {
   "cell_type": "code",
   "execution_count": null,
   "metadata": {},
   "outputs": [],
   "source": [
    "if(not line.coords[0][0]==line.coords[1][0] or not line.coords[0][1]==line.coords[1][1]):               \n",
    "                lsx=dlsx/sqrt((dlsx*dlsx)+(dlsy*dlsy))\n",
    "                lsy=dlsy/sqrt((dlsx*dlsx)+(dlsy*dlsy))\n",
    "                x[i]=line.coords[1][0]+(dlsx/2)\n",
    "                y[i]=line.coords[1][1]+(dlsy/2)\n",
    "                angle=degrees(atan2(lsx,lsy))\n",
    "                l[i]=lsx\n",
    "                m[i]=lsy\n",
    "                locations=[(x[i],y[i])] #doesn't like point right on edge?\n",
    "                height=m2l_utils.value_from_dtm_dtb(dtm,dtb,dtb_null,cover_map,locations)\n",
    "                if(str(acontact[c_l['g']])=='None'):\n",
    "                    ostr=str(x[i])+\",\"+str(y[i])+\",\"+str(height)+\",\"+str(angle%180)+\",\"+str(lsx)+\",\"+str(lsy)+\",\"+acontact[c_l['c']].replace(\" \",\"_\").replace(\"-\",\"_\")+\",\"+acontact[c_l['c']].replace(\" \",\"_\").replace(\"-\",\"_\")+\"\\n\"\n",
    "                else:\n",
    "                    ostr=str(x[i])+\",\"+str(y[i])+\",\"+str(height)+\",\"+str(angle%180)+\",\"+str(lsx)+\",\"+str(lsy)+\",\"+acontact[c_l['c']].replace(\" \",\"_\").replace(\"-\",\"_\")+\",\"+acontact[c_l['g']].replace(\" \",\"_\").replace(\"-\",\"_\")+\"\\n\"\n",
    "                f.write(ostr)\n",
    "                npts=npts+1\n",
    "        i=i+1"
   ]
  },
  {
   "cell_type": "code",
   "execution_count": null,
   "metadata": {},
   "outputs": [],
   "source": [
    "for i in range(10):\n",
    "    basal_contacts.geometry[i].geoms[0]"
   ]
  },
  {
   "cell_type": "code",
   "execution_count": null,
   "metadata": {},
   "outputs": [],
   "source": [
    "basal_contacts.plot()"
   ]
  },
  {
   "cell_type": "code",
   "execution_count": null,
   "metadata": {},
   "outputs": [],
   "source": [
    "from LoopStructural.visualisation import MapView\n",
    "from map2loop.map import MapUtil"
   ]
  },
  {
   "cell_type": "code",
   "execution_count": null,
   "metadata": {},
   "outputs": [],
   "source": [
    "extent=[model.bounding_box[0,0], model.bounding_box[1,0], model.bounding_box[0,1], model.bounding_box[1,1]]"
   ]
  },
  {
   "cell_type": "code",
   "execution_count": null,
   "metadata": {},
   "outputs": [],
   "source": [
    "maps =proj.config.geol_clip#geopandas.read_file(proj.config.tmp_path+'geol_clip.shp')\n",
    "masp = maps[maps['STRATNAM_1']!='Unnamed GIS Unit - see description']"
   ]
  },
  {
   "cell_type": "code",
   "execution_count": null,
   "metadata": {},
   "outputs": [],
   "source": [
    "mapview = MapView(model)\n",
    "proj.config.load_dtm()\n",
    "geomap = MapUtil(proj.config.bbox_3d,maps,proj.config.dtm)\n",
    "mapview.nsteps = (200,200)\n",
    "xy = np.array([mapview.xx\n",
    "               .flatten(),mapview.yy.flatten()]).T\n",
    "dtm = geomap.evaluate_dtm_at_points(xy)\n"
   ]
  },
  {
   "cell_type": "code",
   "execution_count": null,
   "metadata": {},
   "outputs": [],
   "source": [
    "geo_map = geomap.evaluate_geology_at_points(xy)\n",
    "# dtm[:]=0\n",
    "model_map = model.evaluate_model(np.vstack([xy.T,dtm]).T)"
   ]
  },
  {
   "cell_type": "code",
   "execution_count": null,
   "metadata": {},
   "outputs": [],
   "source": [
    "%matplotlib inline\n",
    "import matplotlib.pyplot as plt\n",
    "plt.imshow(geo_map.reshape(mapview.nsteps).T,cmap=proj.config.cmap,extent=extent)"
   ]
  },
  {
   "cell_type": "code",
   "execution_count": null,
   "metadata": {},
   "outputs": [],
   "source": [
    "diff = geo_map-model_map\n",
    "diff[diff==0]= np.nan"
   ]
  },
  {
   "cell_type": "code",
   "execution_count": null,
   "metadata": {},
   "outputs": [],
   "source": [
    "b = []\n",
    "# b.append(0)\n",
    "for v in m2l_data['strat_va']:\n",
    "    b.append(v)\n"
   ]
  },
  {
   "cell_type": "code",
   "execution_count": null,
   "metadata": {},
   "outputs": [],
   "source": [
    "data = []\n",
    "colours = []\n",
    "boundaries = []\n",
    "for u, v in m2l_data['stratigraphic_column']['supergroup_0'].items():\n",
    "    data.append((m2l_data['strat_va'][u],v['colour']))\n",
    "    colours.append(v['colour'])\n",
    "    boundaries.append(m2l_data['strat_va'][u])    "
   ]
  },
  {
   "cell_type": "code",
   "execution_count": null,
   "metadata": {},
   "outputs": [],
   "source": [
    "from matplotlib import colors\n",
    "cmap = colors.ListedColormap(colours)\n",
    "cmap = colors.ListedColormap(cmap.colors[::-1])\n",
    "b = np.array(boundaries)\n",
    "print()\n",
    "b = b[::-1]\n",
    "boundaries = colors.BoundaryNorm(b,ncolors=len(colours))"
   ]
  },
  {
   "cell_type": "code",
   "execution_count": null,
   "metadata": {
    "scrolled": false
   },
   "outputs": [],
   "source": [
    "# mapview = MapView(model)\n",
    "# mapview.add_data(model.features[-1],grad=False,cmap=cmap)\n",
    "# mapview.add_scalar_field(model.features[-1],cmap=cmap,norm=boundaries)\n"
   ]
  },
  {
   "cell_type": "code",
   "execution_count": null,
   "metadata": {},
   "outputs": [],
   "source": [
    "val_data = model.features[-1].interpolator.get_value_constraints()[:,:4]\n",
    "val_data = np.copy(val_data)\n",
    "model.rescale(val_data[:,:3],inplace=True)"
   ]
  },
  {
   "cell_type": "code",
   "execution_count": null,
   "metadata": {},
   "outputs": [],
   "source": [
    "plt.rcParams.update({'font.size': 32})\n",
    "fig3 = plt.figure(constrained_layout=True,figsize=(80,20))\n",
    "nx = 6\n",
    "gs = fig3.add_gridspec(5, 2*nx+1)\n",
    "legend = fig3.add_subplot(gs[:-1, :1])\n",
    "strike = fig3.add_subplot(gs[-1:,:1])\n",
    "\n",
    "#add stike symbol\n",
    "gradient_data = np.array([[0,1.,0]])\n",
    "t = gradient_data[:, [1, 0]] * np.array([1, -1]).T\n",
    "n = gradient_data[:, 0:2]\n",
    "# t *= symb_scale\n",
    "n *= 0.5\n",
    "p1 = gradient_data[:, [0, 1]] - t\n",
    "p2 = gradient_data[:, [0, 1]] + t\n",
    "# plt.scatter(val[:,0],val[:,1],c='black')\n",
    "strike.plot([p1[:, 0], p2[:, 0]], [p1[:, 1], p2[:, 1]], 'black')\n",
    "p1 = gradient_data[:, [0, 1]]\n",
    "p2 = gradient_data[:, [0, 1]] + n\n",
    "strike.plot([p1[:, 0], p2[:, 0]], [p1[:, 1], p2[:, 1]], 'black')\n",
    "strike.annotate(\"Bedding orientation\", xy=[0,0],xytext=[1.5,.75],annotation_clip=False,size=20)\n",
    "strike.set_xlim(-2,2)\n",
    "# strike.plot()\n",
    "strike.axis('off')\n",
    "strike.axis('square')\n",
    "p1 = gradient_data[:, [0, 1]] - t\n",
    "p2 = gradient_data[:, [0, 1]] + t\n",
    "strike.plot([p1[:, 0], p2[:, 0]], [p1[:, 1]+1.2, p2[:, 1]+1.2], 'black')\n",
    "strike.annotate(\"Fault trace\", xy=[0,1.2],xytext=[1.5,.75+1.2],annotation_clip=False,size=20)\n",
    "\n",
    "# f3_ax1.set_title('gs[0, :-2]')\n",
    "geol_map_ax = fig3.add_subplot(gs[:, 1:nx+1])\n",
    "model_map_ax = fig3.add_subplot(gs[:, nx+1:])\n",
    "\n",
    "column_ax = StratigraphiColumnView(model,legend)\n",
    "geol_map_ax.imshow(geo_map.reshape(mapview.nsteps).T,extent=extent,cmap=cmap,origin='lower',vmin=0,vmax=7)\n",
    "# proj.config.faults_clip.plot(ax=geol_map_ax)\n",
    "mapview2 = MapView(model,ax=model_map_ax)\n",
    "mapview2.nsteps=(200,200)\n",
    "mapview2.add_data(model.features[-1],dip=False,val=False,symb_scale=600)\n",
    "mapview2.add_model(cmap=cmap,z=dtm)\n",
    "mapview2.add_faults(colors='black')\n",
    "model_map_ax.imshow(model_map.reshape(mapview.nsteps).T,extent=extent,cmap=cmap,origin='lower',vmin=0,vmax=7)\n",
    "\n",
    "legend.set_title('A. Legend')\n",
    "geol_map_ax.set_title('B. Geological map')\n",
    "model_map_ax.set_title('C. Interpolated geological map')"
   ]
  },
  {
   "cell_type": "code",
   "execution_count": null,
   "metadata": {},
   "outputs": [],
   "source": [
    "# fig, ax = plt.subplots(1,3,figsize=(100,40))\n",
    "# mapview = MapView(model,ax=ax[1])\n",
    "ax[0].imshow(model_map.reshape(mapview.nsteps).T,extent=extent,cmap=cmap,origin='lower',vmin=0,vmax=7)\n",
    "ax[1].imshow(geo_map.reshape(mapview.nsteps).T,extent=extent,cmap=cmap,origin='lower',vmin=0,vmax=7)\n",
    "ax[2].imshow(diff.reshape(mapview.nsteps).T,extent=extent,origin='lower')\n",
    "# mapview.add_data(model.features[-1],grad=False,cmap=cmap)\n",
    "# ax[0].set_title('A. )"
   ]
  },
  {
   "cell_type": "code",
   "execution_count": null,
   "metadata": {},
   "outputs": [],
   "source": [
    "strat = StratigraphiColumnView(model)"
   ]
  },
  {
   "cell_type": "code",
   "execution_count": null,
   "metadata": {},
   "outputs": [],
   "source": [
    "plt.figure(figsize=(40,20))\n",
    "plt.imshow(geo_map.reshape(mapview.nsteps).T,extent=extent,cmap=cmap,origin='lower',vmin=0,vmax=7)"
   ]
  },
  {
   "cell_type": "code",
   "execution_count": null,
   "metadata": {},
   "outputs": [],
   "source": [
    "maps = geopandas.read_file(proj.config.tmp_path+'geol_clip.shp')\n",
    "ax = maps.plot('ave',cmap='rainbow_r')\n",
    "# plt.colorbar(ax)"
   ]
  },
  {
   "cell_type": "code",
   "execution_count": null,
   "metadata": {},
   "outputs": [],
   "source": []
  },
  {
   "cell_type": "code",
   "execution_count": null,
   "metadata": {},
   "outputs": [],
   "source": [
    "model.stratigraphic_column['supergroup_0'].keys()"
   ]
  },
  {
   "cell_type": "code",
   "execution_count": null,
   "metadata": {},
   "outputs": [],
   "source": [
    "mapview2 = MapView(model)\n",
    "mapview2.nsteps = (200,200)\n",
    "mapview2.add_data(model.features[-1],grad=False)\n",
    "mapview2.add_model('')#(model_map.reshape(mapview.nsteps).T,extent=extent,cmap='tab20',origin='lower',vmin=0,vmax=7)\n"
   ]
  },
  {
   "cell_type": "code",
   "execution_count": null,
   "metadata": {},
   "outputs": [],
   "source": [
    "np.unique(geo_map[~np.isnan(geo_map)].flatten())"
   ]
  },
  {
   "cell_type": "code",
   "execution_count": null,
   "metadata": {},
   "outputs": [],
   "source": [
    "contact_loc = m2l_data['data'][['X','Y','Z','formation','val','gx']]"
   ]
  },
  {
   "cell_type": "code",
   "execution_count": null,
   "metadata": {},
   "outputs": [],
   "source": [
    "contact_loc = contact_loc[~np.isnan(contact_loc['val'])]\n",
    "contact_loc['id'] = np.nan\n",
    "for u in model.stratigraphic_column['supergroup_0'].keys():\n",
    "    contact_loc.loc[contact_loc['formation']==u,'id'] = model.stratigraphic_column['supergroup_0'][u]['id']\n",
    "#     if model.stratigraphic_column['supergroup_0'][u]['id'] == val:"
   ]
  },
  {
   "cell_type": "code",
   "execution_count": null,
   "metadata": {},
   "outputs": [],
   "source": [
    "contact_obs = contact_loc[['X','Y','id']].to_numpy()\n",
    "plt.scatter(contact_obs[:,0],contact_obs[:,1],c=contact_obs[:,2],cmap='tab20',s=5)"
   ]
  },
  {
   "cell_type": "code",
   "execution_count": null,
   "metadata": {},
   "outputs": [],
   "source": [
    "mview = MapView(model)\n",
    "mview.nsteps=(200,200)\n",
    "mview.add_model()#,vmin=0,vmax=10)"
   ]
  },
  {
   "cell_type": "code",
   "execution_count": null,
   "metadata": {},
   "outputs": [],
   "source": [
    "extent = (model.origin[0],model.maximum[0],model.origin[1],model.maximum[1])"
   ]
  },
  {
   "cell_type": "code",
   "execution_count": null,
   "metadata": {},
   "outputs": [],
   "source": [
    "name"
   ]
  },
  {
   "cell_type": "code",
   "execution_count": null,
   "metadata": {
    "scrolled": true
   },
   "outputs": [],
   "source": [
    "proj.config.geol_clip"
   ]
  },
  {
   "cell_type": "code",
   "execution_count": null,
   "metadata": {
    "scrolled": false
   },
   "outputs": [],
   "source": [
    "fig, ax = plt.subplots(8,3,figsize=(20,5*8))\n",
    "lines = geopandas.read_file(proj.config.tmp_path+'basal_contacts.shp')\n",
    "geol = geopandas.read_file(proj.config.tmp_path+'geol_clip.shp')#proj.config.geol_clip\n",
    "for val in range(8):\n",
    "#     val = 1\n",
    "    name = None\n",
    "    for u in model.stratigraphic_column['supergroup_0'].keys():\n",
    "        if model.stratigraphic_column['supergroup_0'][u]['id'] == val:\n",
    "            name =  u\n",
    "#         if name == None:\n",
    "#             for u in model.stratigraphic_column['supergroup_1'].keys():\n",
    "#                 if model.stratigraphic_column['supergroup_1'][u]['id'] == val:\n",
    "#                     name =  u\n",
    "    if name == None:\n",
    "        continue\n",
    "    val_data = contact_loc.loc[contact_loc['formation']==name,['X','Y','val']].to_numpy()\n",
    "    geo_map_0 = np.zeros(geo_map.shape)\n",
    "    geo_map_0[:] = np.nan\n",
    "    geo_map_0[geo_map==val] = 0\n",
    "    ax[val][0].imshow(geo_map_0.reshape(mapview.nsteps).T,origin='lower',extent=extent)\n",
    "    model_map_0 = np.zeros(model_map.shape)\n",
    "    model_map_0[:] = np.nan\n",
    "    model_map_0[model_map==val] = 0\n",
    "    ax[val][1].imshow(model_map_0.reshape(mapview.nsteps).T,origin='lower',extent=extent)\n",
    "    geol[geol['STRATNAME']==name.replace('_',' ')].plot(ax=ax[val][1],facecolor='none',edgecolor='black')\n",
    "    # mask = val_data[:,3] == val\n",
    "    ax[val][1].scatter(val_data[:,0],val_data[:,1],s=5,c='r')\n",
    "    ax[val][0].scatter(val_data[:,0],val_data[:,1],s=5,c='r')\n",
    "    lines[lines['STRATNAME']==name].plot(ax=ax[val][2])\n",
    "    for i in range(3):\n",
    "        ax[val][i].set_xlim(extent[0],extent[1])\n",
    "        ax[val][i].set_ylim(extent[2],extent[3])\n",
    "    ax[val][0].set_title('Geological map {}'.format(name))\n",
    "    ax[val][1].set_title('Model map pattern {}'.format(name))\n",
    "    ax[val][2].set_title('Basal contacts {}'.format(name))\n",
    "\n",
    "plt.tight_layout()"
   ]
  },
  {
   "cell_type": "code",
   "execution_count": null,
   "metadata": {},
   "outputs": [],
   "source": []
  },
  {
   "cell_type": "code",
   "execution_count": null,
   "metadata": {},
   "outputs": [],
   "source": [
    "lines = geopandas.read_file(proj.config.tmp_path+'basal_contacts.shp')\n",
    "# lines[lines['STRATNAME']==name].plot()\n",
    "plt.scatter(val_data[:,0],val_data[:,1])"
   ]
  },
  {
   "cell_type": "code",
   "execution_count": null,
   "metadata": {},
   "outputs": [],
   "source": [
    "points_raw = pd.read_csv(proj.config.output_path+'contacts_clean.csv')"
   ]
  },
  {
   "cell_type": "code",
   "execution_count": null,
   "metadata": {},
   "outputs": [],
   "source": [
    "location_data = points_raw.loc[points_raw['formation']==name,['X','Y']].to_numpy()"
   ]
  },
  {
   "cell_type": "code",
   "execution_count": null,
   "metadata": {},
   "outputs": [],
   "source": [
    "plt.scatter(location_data[:,0],location_data[:,1])"
   ]
  },
  {
   "cell_type": "code",
   "execution_count": null,
   "metadata": {},
   "outputs": [],
   "source": [
    "import matplotlib.colors as colors\n",
    "from LoopStructural import MapView\n",
    "fig3 = plt.figure(constrained_layout=True,figsize=(80,20))\n",
    "nx = 6\n",
    "gs = fig3.add_gridspec(3, 2*nx+1)\n",
    "legend = fig3.add_subplot(gs[:, :1])\n",
    "# f3_ax1.set_title('gs[0, :-2]')\n",
    "geol_map = fig3.add_subplot(gs[:, 1:nx+1])\n",
    "model_map = fig3.add_subplot(gs[:, nx+1:])\n",
    "column = StratigraphiColumnView(model,legend)\n",
    "\n",
    "# fig, ax = plt.subplots(1,2,figsize=(20,10))\n",
    "# colours = [] #container for the discrete colours we are using\n",
    "# # random_colours = np.random.random((len(geology_ll['STRATNAME'].unique()),3)) #random colours\n",
    "# asc=pd.read_csv(tmp_path+'all_sorts_clean.csv',\",\")\n",
    "# #display(asc)\n",
    "# colours=pd.read_csv(clut_path,\",\")\n",
    "# if( c_l['c']=='CODE'):\n",
    "#     code=c_l['c'].lower()\n",
    "# else:\n",
    "#     code=c_l['c']\n",
    "\n",
    "# colours = [] #container for the discrete colours we are using\n",
    "# i=0\n",
    "# geol_clip['colour_index'] = np.nan #initialise a colour index attribute column\n",
    "# for ind,strat in asc.iterrows():\n",
    "#     geol_clip[c_l['c']].str.replace(\" \",\"_\")\n",
    "#     geol_clip.loc[geol_clip[c_l['c']]==strat['code'].replace(\"_\",\" \"),'colour_index'] = i\n",
    "#     colours.append(strat['colour'])\n",
    "#     i=i+1\n",
    "    \n",
    "# #     cmap = colors.ListedColormap(colours)\n",
    "# cmap = colors.ListedColormap(colours) # create a cmap for passing to geopandas\n",
    "base=proj.config.geol_clip.plot(column='colour_index',figsize=(10,10),edgecolor='#000000',linewidth=0.2,cmap=cmap,ax=geol_map)\n",
    "mapview = MapView(model,ax=model_map)\n",
    "mapview.add_faults(colors='black')\n",
    "mapview.nsteps = (400,400)\n",
    "mapview.add_model(z=600)\n",
    "faults_clip.plot(color='black',ax=geol_map)\n",
    "geol_all = gpd.read_file('../SA/data/2M_Surface_Geology_28354_relage.shp').to_crs(dst_crs)\n",
    "geol_all[geol_all['MAPSYMB']=='Qpa'].plot(facecolor='None',edgecolor='red',linewidth=0.5,ax=geol_map)\n",
    "geol_map.set_ylim(geology_ll.total_bounds[1],geology_ll.total_bounds[3])\n",
    "geol_map.set_xlim(geology_ll.total_bounds[0],geology_ll.total_bounds[2],)\n",
    "                                           \n",
    "geol_all[geol_all['MAPSYMB']=='Qpa'].plot(facecolor='None',edgecolor='red',linewidth=0.5,ax=model_map)\n",
    "model_map.set_ylim(geology_ll.total_bounds[1],geology_ll.total_bounds[3])\n",
    "model_map.set_xlim(geology_ll.total_bounds[0],geology_ll.total_bounds[2],)\n",
    "legend.set_title('A. Stratigraphic column')\n",
    "geol_map.set_title('B. Geological map')\n",
    "model_map.set_title('C. Interpolated geological map')\n",
    "mapview2  = MapView(model,ax=geol_map)\n",
    "mapview2.add_data(model.get_feature_by_name('supergroup_0'),val=False,dip=False,symb_scale=500)"
   ]
  },
  {
   "cell_type": "code",
   "execution_count": null,
   "metadata": {},
   "outputs": [],
   "source": []
  }
 ],
 "metadata": {
  "kernelspec": {
   "display_name": "Python 3",
   "language": "python",
   "name": "python3"
  },
  "language_info": {
   "codemirror_mode": {
    "name": "ipython",
    "version": 3
   },
   "file_extension": ".py",
   "mimetype": "text/x-python",
   "name": "python",
   "nbconvert_exporter": "python",
   "pygments_lexer": "ipython3",
   "version": "3.7.9"
  }
 },
 "nbformat": 4,
 "nbformat_minor": 4
}
