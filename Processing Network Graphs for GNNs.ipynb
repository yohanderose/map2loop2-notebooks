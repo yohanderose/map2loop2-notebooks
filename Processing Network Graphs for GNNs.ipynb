{
 "cells": [
  {
   "cell_type": "markdown",
   "metadata": {},
   "source": [
    "# Map2Loop geologic topology graphs to GNN inputs"
   ]
  },
  {
   "cell_type": "markdown",
   "metadata": {},
   "source": [
    "## How to extract topology from 2D geographic maps and create \n",
    "> * Spatial adjacency matrix S of |V| x |V|, describing where geological units meet and how they are in contact. Possible values are integers from 0 to 4. 0 means units are not touching. 1, 2, 3, and 4 indicate a stratigraphic, unconformity, intrusive or faulted contact, respectively (Thiele et al., 2016). \n",
    "> * Temporal relationship matrix T of |V| x |V|, describing existing known and unknown age relationships between geological units. Possible values are floats -1, 0, 1 and None.\n",
    "> * Feature matrix F of |V| x |X|, containing the feature vectors for each geological unit. "
   ]
  },
  {
   "cell_type": "markdown",
   "metadata": {},
   "source": [
    "### Map2Loop"
   ]
  },
  {
   "cell_type": "code",
   "execution_count": null,
   "metadata": {
    "scrolled": false
   },
   "outputs": [],
   "source": [
    "import os\n",
    "from map2loop.project import Project\n",
    "%matplotlib inline\n",
    "\n",
    "proj = Project( \n",
    "    loopdata_state='WA'\n",
    ")\n",
    "\n",
    "proj.update_config(\n",
    "                    out_dir='./model-test',\n",
    "                    overwrite=True,\n",
    "                    bbox_3d={\n",
    "                         \"minx\": 500000,\n",
    "                         \"miny\": 7490000,\n",
    "                         \"maxx\": 545000,\n",
    "                         \"maxy\": 7520000,\n",
    "                         \"base\": -3200,\n",
    "                         \"top\": 1200,\n",
    "                     },\n",
    "                    proj_crs={'init': 'EPSG:28350'},\n",
    "                    quiet=True\n",
    "                  )\n",
    "\n",
    "proj.run(\n",
    "            aus=True,\n",
    "            deposits=\"Fe,Cu,Au,NONE\",\n",
    "            dtb='',\n",
    "            orientation_decimate=0,\n",
    "            contact_decimate=5,\n",
    "            intrusion_mode=0,\n",
    "            interpolation_spacing=500,\n",
    "            misorientation=30,\n",
    "            interpolation_scheme='scipy_rbf',\n",
    "            fault_decimate=5,\n",
    "            min_fault_length=5000,\n",
    "            fault_dip=90,\n",
    "            pluton_dip=45,\n",
    "            pluton_form='domes',\n",
    "            dist_buffer=10,\n",
    "            contact_dip=-999,\n",
    "            contact_orientation_decimate=5,\n",
    "            null_scheme='null',\n",
    "            thickness_buffer=5000,\n",
    "            max_thickness_allowed=10000,\n",
    "            fold_decimate=5,\n",
    "            fat_step=750,\n",
    "            close_dip=-999,\n",
    "            use_interpolations=True,\n",
    "            use_fat=True\n",
    ")"
   ]
  },
  {
   "cell_type": "markdown",
   "metadata": {},
   "source": [
    "### Spatial data"
   ]
  },
  {
   "cell_type": "code",
   "execution_count": null,
   "metadata": {},
   "outputs": [],
   "source": [
    "import networkx as nx\n",
    "import matplotlib.pyplot as plt\n",
    "%matplotlib inline"
   ]
  },
  {
   "cell_type": "code",
   "execution_count": null,
   "metadata": {},
   "outputs": [],
   "source": [
    "def get_spatial_relationships(graph_file):\n",
    "    \n",
    "    # Read graph file into graph object\n",
    "    G = nx.read_gml(graph_file, label='id')\n",
    "    # Create space between nodes for clearer displaying\n",
    "    pos = nx.spring_layout(G,k=0.3,iterations=20)\n",
    "    fig, ax = plt.subplots(1)\n",
    "    nx.draw(G, pos, ax=ax, with_labels=True)\n",
    "    \n",
    "    # Get nodes geological names instead of ids\n",
    "    labels = nx.get_node_attributes(G, 'LabelGraphics')\n",
    "    labels = [lab['text'] for lab in labels.values()]\n",
    "    # Create a map of old numeric labels to new descriptive ones to use as a figure legend\n",
    "    name2num = {name: num + 1 for num, name in enumerate(labels)}\n",
    "    legend_text = \"\\n\".join(f\"{v} - {k}\" for k, v in name2num.items())\n",
    "    # Format figure and add legend\n",
    "    props = dict(boxstyle=\"round\", facecolor=\"w\", alpha=0.5)\n",
    "    ax.text(\n",
    "        1.15,\n",
    "        0.95,\n",
    "        legend_text,\n",
    "        transform=ax.transAxes,\n",
    "        fontsize=14,\n",
    "        verticalalignment=\"top\",\n",
    "        bbox=props,\n",
    "    )\n",
    "    plt.show()\n",
    "    \n",
    "    # Relabel nodes to their descriptive labels and return\n",
    "    newlabels = dict(zip(G.nodes, labels))\n",
    "    G = nx.relabel_nodes(G, newlabels)\n",
    "    S = nx.to_pandas_adjacency(G).values\n",
    "    return S"
   ]
  },
  {
   "cell_type": "code",
   "execution_count": null,
   "metadata": {
    "scrolled": false
   },
   "outputs": [],
   "source": [
    "STRAT_CONTACT = 1\n",
    "INTRSV_CONTACT = 2\n",
    "FAULT_CONTACT = 3\n",
    "\n",
    "strat_graph_file = proj.config.graph_path + \"graph_strat_NONE.gml\"\n",
    "intrsv_graph_file = proj.config.graph_path + \"graph_igneous_NONE.gml\"\n",
    "fault_graph_file = proj.config.graph_path + \"graph_fault_NONE.gml\"\n",
    "\n",
    "_strat = get_spatial_relationships(strat_graph_file) * STRAT_CONTACT\n",
    "_intrsv = get_spatial_relationships(intrsv_graph_file) * INTRSV_CONTACT\n",
    "_fault = get_spatial_relationships(fault_graph_file) * FAULT_CONTACT\n",
    "\n",
    "print(_strat)\n",
    "print(_intrsv)\n",
    "print(_fault)\n",
    "_strat  + _intrsv"
   ]
  },
  {
   "cell_type": "markdown",
   "metadata": {},
   "source": [
    "### Temporal data"
   ]
  },
  {
   "cell_type": "code",
   "execution_count": null,
   "metadata": {},
   "outputs": [],
   "source": [
    "import numpy as np"
   ]
  },
  {
   "cell_type": "code",
   "execution_count": null,
   "metadata": {},
   "outputs": [],
   "source": [
    "def get_temporal_relationships(graph_file):\n",
    "    \n",
    "     # Read graph file into graph object and parse node labels\n",
    "    G = nx.read_gml(graph_file, label='id')\n",
    "    labels = nx.get_node_attributes(G, 'LabelGraphics')\n",
    "    labels = [lab['text'] for lab in labels.values()]\n",
    "     \n",
    "    # Change the labels from node id to geologic feature name\n",
    "    newlabels = dict(zip(G.nodes, labels))\n",
    "    G = nx.relabel_nodes(G, newlabels)\n",
    "    \n",
    "    # Create a zero matrix of the same shape as S\n",
    "    T =  np.zeros(nx.to_pandas_adjacency(G).values.shape)\n",
    "    \n",
    "    # Get node to node mappings and create a map to identify nodes from their names\n",
    "    edges = nx.to_pandas_edgelist(G).drop(['graphics'], axis=1)\n",
    "    key_map = dict(zip(G.nodes, range(len(G.nodes))))\n",
    "    \n",
    "    for row in edges.iterrows():\n",
    "        # Parse the edge into its origin and destination features\n",
    "        values = (list(row))[1].tolist()\n",
    "        source = values[0]\n",
    "        target = values[1]\n",
    "        # Get the associated index we mapped above\n",
    "        # TODO: We will need to ensure that these mapped ids are\n",
    "        # the same as is for the rows and cols of S, otherwise features \n",
    "        # would be out of order\n",
    "        src_id = key_map[source]\n",
    "        tar_id = key_map[target]\n",
    "        # Set the origin node to 1 and the destination to -1\n",
    "        T[src_id][tar_id] = 1\n",
    "        T[tar_id][src_id] = -1\n",
    "        \n",
    "    return T"
   ]
  },
  {
   "cell_type": "code",
   "execution_count": null,
   "metadata": {},
   "outputs": [],
   "source": [
    "all_contacts = proj.config.graph_path + \"graph_all_NONE.gml\"\n",
    "\n",
    "T = get_temporal_relationships(all_contacts)\n",
    "print(T)"
   ]
  },
  {
   "cell_type": "code",
   "execution_count": null,
   "metadata": {},
   "outputs": [],
   "source": []
  },
  {
   "cell_type": "code",
   "execution_count": null,
   "metadata": {},
   "outputs": [],
   "source": [
    "# Properly define outputs\n",
    "# Use the temporal information as the test labels"
   ]
  }
 ],
 "metadata": {
  "kernelspec": {
   "display_name": "Python 3",
   "language": "python",
   "name": "python3"
  },
  "language_info": {
   "codemirror_mode": {
    "name": "ipython",
    "version": 3
   },
   "file_extension": ".py",
   "mimetype": "text/x-python",
   "name": "python",
   "nbconvert_exporter": "python",
   "pygments_lexer": "ipython3",
   "version": "3.7.9"
  }
 },
 "nbformat": 4,
 "nbformat_minor": 4
}
